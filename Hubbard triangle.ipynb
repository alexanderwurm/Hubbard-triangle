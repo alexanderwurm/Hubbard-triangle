{
 "cells": [
  {
   "cell_type": "markdown",
   "id": "0b74f108-6de1-408d-9fff-9518d0003384",
   "metadata": {},
   "source": [
    "# **Hubbard triangle**\n",
    "\n",
    "## CMS Project - TU WIEN\n",
    "#### Alexander Wurm\n",
    "#### alexander.wurm@tuwien.ac.at"
   ]
  },
  {
   "cell_type": "code",
   "execution_count": 1,
   "id": "f82b56c0-ec98-499c-9cec-4b15886136d1",
   "metadata": {},
   "outputs": [],
   "source": [
    "from config import *\n",
    "from functions import *"
   ]
  },
  {
   "cell_type": "markdown",
   "id": "fa98de06-fcd7-4adb-804d-afaabc4781dd",
   "metadata": {},
   "source": [
    "![title](task.png)"
   ]
  },
  {
   "cell_type": "code",
   "execution_count": 2,
   "id": "669e7671-eb08-4077-b5be-92d9ae48e0c0",
   "metadata": {},
   "outputs": [],
   "source": [
    "# generate states\n",
    "states = generate_states(N_electrons)\n",
    "\n",
    "# generate Hamiltonian\n",
    "Hamiltonian = generate_Hamiltonian(states)\n",
    "\n",
    "# generate Sz matrix\n",
    "S = calc_S(states)"
   ]
  },
  {
   "cell_type": "code",
   "execution_count": 3,
   "id": "092429f4-6f27-4256-a98b-f31b248f6138",
   "metadata": {},
   "outputs": [
    {
     "data": {
      "text/latex": [
       "$\\displaystyle \\left[\\begin{matrix}0 & 0 & 1 & 1 & 1 & 1\\\\0 & 1 & 0 & 1 & 1 & 1\\\\0 & 1 & 1 & 0 & 1 & 1\\\\0 & 1 & 1 & 1 & 0 & 1\\\\0 & 1 & 1 & 1 & 1 & 0\\\\1 & 0 & 0 & 1 & 1 & 1\\\\1 & 0 & 1 & 0 & 1 & 1\\\\1 & 0 & 1 & 1 & 0 & 1\\\\1 & 0 & 1 & 1 & 1 & 0\\\\1 & 1 & 0 & 0 & 1 & 1\\\\1 & 1 & 0 & 1 & 0 & 1\\\\1 & 1 & 0 & 1 & 1 & 0\\\\1 & 1 & 1 & 0 & 0 & 1\\\\1 & 1 & 1 & 0 & 1 & 0\\\\1 & 1 & 1 & 1 & 0 & 0\\end{matrix}\\right]$"
      ],
      "text/plain": [
       "⎡0  0  1  1  1  1⎤\n",
       "⎢                ⎥\n",
       "⎢0  1  0  1  1  1⎥\n",
       "⎢                ⎥\n",
       "⎢0  1  1  0  1  1⎥\n",
       "⎢                ⎥\n",
       "⎢0  1  1  1  0  1⎥\n",
       "⎢                ⎥\n",
       "⎢0  1  1  1  1  0⎥\n",
       "⎢                ⎥\n",
       "⎢1  0  0  1  1  1⎥\n",
       "⎢                ⎥\n",
       "⎢1  0  1  0  1  1⎥\n",
       "⎢                ⎥\n",
       "⎢1  0  1  1  0  1⎥\n",
       "⎢                ⎥\n",
       "⎢1  0  1  1  1  0⎥\n",
       "⎢                ⎥\n",
       "⎢1  1  0  0  1  1⎥\n",
       "⎢                ⎥\n",
       "⎢1  1  0  1  0  1⎥\n",
       "⎢                ⎥\n",
       "⎢1  1  0  1  1  0⎥\n",
       "⎢                ⎥\n",
       "⎢1  1  1  0  0  1⎥\n",
       "⎢                ⎥\n",
       "⎢1  1  1  0  1  0⎥\n",
       "⎢                ⎥\n",
       "⎣1  1  1  1  0  0⎦"
      ]
     },
     "metadata": {},
     "output_type": "display_data"
    }
   ],
   "source": [
    "printM(states)"
   ]
  },
  {
   "cell_type": "code",
   "execution_count": 4,
   "id": "da2006ee-d804-4fce-90a2-45544dc19d81",
   "metadata": {},
   "outputs": [
    {
     "data": {
      "text/latex": [
       "$\\displaystyle \\left[\\begin{array}{ccccccccccccccc}4.0 & -1.0 & 0.0 & 0.0 & 0.0 & -1.0 & 0.0 & 0.0 & 0.0 & 0.0 & 0.0 & 0.0 & 0.0 & 0.0 & 0.0\\\\-1.0 & 4.0 & 0.0 & 0.0 & 0.0 & -1.0 & 0.0 & 0.0 & 0.0 & 0.0 & 0.0 & 0.0 & 0.0 & 0.0 & 0.0\\\\0.0 & 0.0 & 8.0 & -1.0 & 1.0 & 0.0 & -1.0 & 0.0 & 0.0 & 1.0 & 0.0 & 0.0 & 0.0 & 0.0 & 0.0\\\\0.0 & 0.0 & -1.0 & 4.0 & -1.0 & 0.0 & 0.0 & -1.0 & 0.0 & 0.0 & 1.0 & 0.0 & 0.0 & 0.0 & 0.0\\\\0.0 & 0.0 & 1.0 & -1.0 & 4.0 & 0.0 & 0.0 & 0.0 & -1.0 & 0.0 & 0.0 & 1.0 & 0.0 & 0.0 & 0.0\\\\-1.0 & -1.0 & 0.0 & 0.0 & 0.0 & 4.0 & 0.0 & 0.0 & 0.0 & 0.0 & 0.0 & 0.0 & 0.0 & 0.0 & 0.0\\\\0.0 & 0.0 & -1.0 & 0.0 & 0.0 & 0.0 & 4.0 & -1.0 & 1.0 & -1.0 & 0.0 & 0.0 & 0.0 & 0.0 & 0.0\\\\0.0 & 0.0 & 0.0 & -1.0 & 0.0 & 0.0 & -1.0 & 8.0 & -1.0 & 0.0 & -1.0 & 0.0 & 0.0 & 0.0 & 0.0\\\\0.0 & 0.0 & 0.0 & 0.0 & -1.0 & 0.0 & 1.0 & -1.0 & 4.0 & 0.0 & 0.0 & -1.0 & 0.0 & 0.0 & 0.0\\\\0.0 & 0.0 & 1.0 & 0.0 & 0.0 & 0.0 & -1.0 & 0.0 & 0.0 & 4.0 & -1.0 & 1.0 & 0.0 & 0.0 & 0.0\\\\0.0 & 0.0 & 0.0 & 1.0 & 0.0 & 0.0 & 0.0 & -1.0 & 0.0 & -1.0 & 4.0 & -1.0 & 0.0 & 0.0 & 0.0\\\\0.0 & 0.0 & 0.0 & 0.0 & 1.0 & 0.0 & 0.0 & 0.0 & -1.0 & 1.0 & -1.0 & 8.0 & 0.0 & 0.0 & 0.0\\\\0.0 & 0.0 & 0.0 & 0.0 & 0.0 & 0.0 & 0.0 & 0.0 & 0.0 & 0.0 & 0.0 & 0.0 & 4.0 & -1.0 & -1.0\\\\0.0 & 0.0 & 0.0 & 0.0 & 0.0 & 0.0 & 0.0 & 0.0 & 0.0 & 0.0 & 0.0 & 0.0 & -1.0 & 4.0 & -1.0\\\\0.0 & 0.0 & 0.0 & 0.0 & 0.0 & 0.0 & 0.0 & 0.0 & 0.0 & 0.0 & 0.0 & 0.0 & -1.0 & -1.0 & 4.0\\end{array}\\right]$"
      ],
      "text/plain": [
       "⎡4.0   -1.0  0.0   0.0   0.0   -1.0  0.0   0.0   0.0   0.0   0.0   0.0   0.0   0.0   0.0 ⎤\n",
       "⎢                                                                                        ⎥\n",
       "⎢-1.0  4.0   0.0   0.0   0.0   -1.0  0.0   0.0   0.0   0.0   0.0   0.0   0.0   0.0   0.0 ⎥\n",
       "⎢                                                                                        ⎥\n",
       "⎢0.0   0.0   8.0   -1.0  1.0   0.0   -1.0  0.0   0.0   1.0   0.0   0.0   0.0   0.0   0.0 ⎥\n",
       "⎢                                                                                        ⎥\n",
       "⎢0.0   0.0   -1.0  4.0   -1.0  0.0   0.0   -1.0  0.0   0.0   1.0   0.0   0.0   0.0   0.0 ⎥\n",
       "⎢                                                                                        ⎥\n",
       "⎢0.0   0.0   1.0   -1.0  4.0   0.0   0.0   0.0   -1.0  0.0   0.0   1.0   0.0   0.0   0.0 ⎥\n",
       "⎢                                                                                        ⎥\n",
       "⎢-1.0  -1.0  0.0   0.0   0.0   4.0   0.0   0.0   0.0   0.0   0.0   0.0   0.0   0.0   0.0 ⎥\n",
       "⎢                                                                                        ⎥\n",
       "⎢0.0   0.0   -1.0  0.0   0.0   0.0   4.0   -1.0  1.0   -1.0  0.0   0.0   0.0   0.0   0.0 ⎥\n",
       "⎢                                                                                        ⎥\n",
       "⎢0.0   0.0   0.0   -1.0  0.0   0.0   -1.0  8.0   -1.0  0.0   -1.0  0.0   0.0   0.0   0.0 ⎥\n",
       "⎢                                                                                        ⎥\n",
       "⎢0.0   0.0   0.0   0.0   -1.0  0.0   1.0   -1.0  4.0   0.0   0.0   -1.0  0.0   0.0   0.0 ⎥\n",
       "⎢                                                                                        ⎥\n",
       "⎢0.0   0.0   1.0   0.0   0.0   0.0   -1.0  0.0   0.0   4.0   -1.0  1.0   0.0   0.0   0.0 ⎥\n",
       "⎢                                                                                        ⎥\n",
       "⎢0.0   0.0   0.0   1.0   0.0   0.0   0.0   -1.0  0.0   -1.0  4.0   -1.0  0.0   0.0   0.0 ⎥\n",
       "⎢                                                                                        ⎥\n",
       "⎢0.0   0.0   0.0   0.0   1.0   0.0   0.0   0.0   -1.0  1.0   -1.0  8.0   0.0   0.0   0.0 ⎥\n",
       "⎢                                                                                        ⎥\n",
       "⎢0.0   0.0   0.0   0.0   0.0   0.0   0.0   0.0   0.0   0.0   0.0   0.0   4.0   -1.0  -1.0⎥\n",
       "⎢                                                                                        ⎥\n",
       "⎢0.0   0.0   0.0   0.0   0.0   0.0   0.0   0.0   0.0   0.0   0.0   0.0   -1.0  4.0   -1.0⎥\n",
       "⎢                                                                                        ⎥\n",
       "⎣0.0   0.0   0.0   0.0   0.0   0.0   0.0   0.0   0.0   0.0   0.0   0.0   -1.0  -1.0  4.0 ⎦"
      ]
     },
     "metadata": {},
     "output_type": "display_data"
    }
   ],
   "source": [
    "# print Hamiltonian matrix\n",
    "printM(Hamiltonian)"
   ]
  },
  {
   "cell_type": "code",
   "execution_count": 5,
   "id": "5d308c51-cb52-4197-bd7a-7ca5dca6f28e",
   "metadata": {},
   "outputs": [
    {
     "data": {
      "text/latex": [
       "$\\displaystyle \\left[\\begin{array}{ccccccccccccccc}0.333333333333333 & 0.0 & 0.0 & 0.0 & 0.0 & 0.0 & 0.0 & 0.0 & 0.0 & 0.0 & 0.0 & 0.0 & 0.0 & 0.0 & 0.0\\\\0.0 & 0.333333333333333 & 0.0 & 0.0 & 0.0 & 0.0 & 0.0 & 0.0 & 0.0 & 0.0 & 0.0 & 0.0 & 0.0 & 0.0 & 0.0\\\\0.0 & 0.0 & 0.0 & 0.0 & 0.0 & 0.0 & 0.0 & 0.0 & 0.0 & 0.0 & 0.0 & 0.0 & 0.0 & 0.0 & 0.0\\\\0.0 & 0.0 & 0.0 & -0.333333333333333 & 0.0 & 0.0 & 0.0 & 0.0 & 0.0 & 0.0 & 0.0 & 0.0 & 0.0 & 0.0 & 0.0\\\\0.0 & 0.0 & 0.0 & 0.0 & -0.333333333333333 & 0.0 & 0.0 & 0.0 & 0.0 & 0.0 & 0.0 & 0.0 & 0.0 & 0.0 & 0.0\\\\0.0 & 0.0 & 0.0 & 0.0 & 0.0 & 0.333333333333333 & 0.0 & 0.0 & 0.0 & 0.0 & 0.0 & 0.0 & 0.0 & 0.0 & 0.0\\\\0.0 & 0.0 & 0.0 & 0.0 & 0.0 & 0.0 & -0.333333333333333 & 0.0 & 0.0 & 0.0 & 0.0 & 0.0 & 0.0 & 0.0 & 0.0\\\\0.0 & 0.0 & 0.0 & 0.0 & 0.0 & 0.0 & 0.0 & 0.0 & 0.0 & 0.0 & 0.0 & 0.0 & 0.0 & 0.0 & 0.0\\\\0.0 & 0.0 & 0.0 & 0.0 & 0.0 & 0.0 & 0.0 & 0.0 & -0.333333333333333 & 0.0 & 0.0 & 0.0 & 0.0 & 0.0 & 0.0\\\\0.0 & 0.0 & 0.0 & 0.0 & 0.0 & 0.0 & 0.0 & 0.0 & 0.0 & -0.333333333333333 & 0.0 & 0.0 & 0.0 & 0.0 & 0.0\\\\0.0 & 0.0 & 0.0 & 0.0 & 0.0 & 0.0 & 0.0 & 0.0 & 0.0 & 0.0 & -0.333333333333333 & 0.0 & 0.0 & 0.0 & 0.0\\\\0.0 & 0.0 & 0.0 & 0.0 & 0.0 & 0.0 & 0.0 & 0.0 & 0.0 & 0.0 & 0.0 & 0.0 & 0.0 & 0.0 & 0.0\\\\0.0 & 0.0 & 0.0 & 0.0 & 0.0 & 0.0 & 0.0 & 0.0 & 0.0 & 0.0 & 0.0 & 0.0 & 0.333333333333333 & 0.0 & 0.0\\\\0.0 & 0.0 & 0.0 & 0.0 & 0.0 & 0.0 & 0.0 & 0.0 & 0.0 & 0.0 & 0.0 & 0.0 & 0.0 & 0.333333333333333 & 0.0\\\\0.0 & 0.0 & 0.0 & 0.0 & 0.0 & 0.0 & 0.0 & 0.0 & 0.0 & 0.0 & 0.0 & 0.0 & 0.0 & 0.0 & 0.333333333333333\\end{array}\\right]$"
      ],
      "text/plain": [
       "⎡0.333333333333333         0.0         0.0         0.0                 0.0                 0.0                0.0          0.0         0.0     \n",
       "⎢                                                                                                                                              \n",
       "⎢       0.0         0.333333333333333  0.0         0.0                 0.0                 0.0                0.0          0.0         0.0     \n",
       "⎢                                                                                                                                              \n",
       "⎢       0.0                0.0         0.0         0.0                 0.0                 0.0                0.0          0.0         0.0     \n",
       "⎢                                                                                                                                              \n",
       "⎢       0.0                0.0         0.0  -0.333333333333333         0.0                 0.0                0.0          0.0         0.0     \n",
       "⎢                                                                                                                                              \n",
       "⎢       0.0                0.0         0.0         0.0          -0.333333333333333         0.0                0.0          0.0         0.0     \n",
       "⎢                                                                                                                                              \n",
       "⎢       0.0                0.0         0.0         0.0                 0.0          0.333333333333333         0.0          0.0         0.0     \n",
       "⎢                                                                                                                                              \n",
       "⎢       0.0                0.0         0.0         0.0                 0.0                 0.0         -0.333333333333333  0.0         0.0     \n",
       "⎢                                                                                                                                              \n",
       "⎢       0.0                0.0         0.0         0.0                 0.0                 0.0                0.0          0.0         0.0     \n",
       "⎢                                                                                                                                              \n",
       "⎢       0.0                0.0         0.0         0.0                 0.0                 0.0                0.0          0.0  -0.333333333333\n",
       "⎢                                                                                                                                              \n",
       "⎢       0.0                0.0         0.0         0.0                 0.0                 0.0                0.0          0.0         0.0     \n",
       "⎢                                                                                                                                              \n",
       "⎢       0.0                0.0         0.0         0.0                 0.0                 0.0                0.0          0.0         0.0     \n",
       "⎢                                                                                                                                              \n",
       "⎢       0.0                0.0         0.0         0.0                 0.0                 0.0                0.0          0.0         0.0     \n",
       "⎢                                                                                                                                              \n",
       "⎢       0.0                0.0         0.0         0.0                 0.0                 0.0                0.0          0.0         0.0     \n",
       "⎢                                                                                                                                              \n",
       "⎢       0.0                0.0         0.0         0.0                 0.0                 0.0                0.0          0.0         0.0     \n",
       "⎢                                                                                                                                              \n",
       "⎣       0.0                0.0         0.0         0.0                 0.0                 0.0                0.0          0.0         0.0     \n",
       "\n",
       "            0.0                 0.0          0.0         0.0                0.0                0.0       ⎤\n",
       "                                                                                                         ⎥\n",
       "            0.0                 0.0          0.0         0.0                0.0                0.0       ⎥\n",
       "                                                                                                         ⎥\n",
       "            0.0                 0.0          0.0         0.0                0.0                0.0       ⎥\n",
       "                                                                                                         ⎥\n",
       "            0.0                 0.0          0.0         0.0                0.0                0.0       ⎥\n",
       "                                                                                                         ⎥\n",
       "            0.0                 0.0          0.0         0.0                0.0                0.0       ⎥\n",
       "                                                                                                         ⎥\n",
       "            0.0                 0.0          0.0         0.0                0.0                0.0       ⎥\n",
       "                                                                                                         ⎥\n",
       "            0.0                 0.0          0.0         0.0                0.0                0.0       ⎥\n",
       "                                                                                                         ⎥\n",
       "            0.0                 0.0          0.0         0.0                0.0                0.0       ⎥\n",
       "                                                                                                         ⎥\n",
       "333         0.0                 0.0          0.0         0.0                0.0                0.0       ⎥\n",
       "                                                                                                         ⎥\n",
       "     -0.333333333333333         0.0          0.0         0.0                0.0                0.0       ⎥\n",
       "                                                                                                         ⎥\n",
       "            0.0          -0.333333333333333  0.0         0.0                0.0                0.0       ⎥\n",
       "                                                                                                         ⎥\n",
       "            0.0                 0.0          0.0         0.0                0.0                0.0       ⎥\n",
       "                                                                                                         ⎥\n",
       "            0.0                 0.0          0.0  0.333333333333333         0.0                0.0       ⎥\n",
       "                                                                                                         ⎥\n",
       "            0.0                 0.0          0.0         0.0         0.333333333333333         0.0       ⎥\n",
       "                                                                                                         ⎥\n",
       "            0.0                 0.0          0.0         0.0                0.0         0.333333333333333⎦"
      ]
     },
     "metadata": {},
     "output_type": "display_data"
    }
   ],
   "source": [
    "# print Sz matrix\n",
    "printM(S)"
   ]
  },
  {
   "cell_type": "code",
   "execution_count": 6,
   "id": "2d08757f-eeae-4d9a-a0f0-71169fef63a6",
   "metadata": {},
   "outputs": [
    {
     "data": {
      "text/latex": [
       "$\\displaystyle \\left[\\begin{array}{ccccccccccccccc}0.0 & 0.0 & 0.0 & 0.0 & 0.0 & 0.0 & 0.0 & 0.0 & 0.0 & 0.0 & 0.0 & 0.0 & 0.0 & 0.0 & 0.0\\\\0.0 & 0.0 & 0.0 & 0.0 & 0.0 & 0.0 & 0.0 & 0.0 & 0.0 & 0.0 & 0.0 & 0.0 & 0.0 & 0.0 & 0.0\\\\0.0 & 0.0 & 0.0 & 0.0 & 0.0 & 0.0 & 0.0 & 0.0 & 0.0 & 0.0 & 0.0 & 0.0 & 0.0 & 0.0 & 0.0\\\\0.0 & 0.0 & 0.0 & 0.0 & 0.0 & 0.0 & 0.0 & 0.0 & 0.0 & 0.0 & 0.0 & 0.0 & 0.0 & 0.0 & 0.0\\\\0.0 & 0.0 & 0.0 & 0.0 & 0.0 & 0.0 & 0.0 & 0.0 & 0.0 & 0.0 & 0.0 & 0.0 & 0.0 & 0.0 & 0.0\\\\0.0 & 0.0 & 0.0 & 0.0 & 0.0 & 0.0 & 0.0 & 0.0 & 0.0 & 0.0 & 0.0 & 0.0 & 0.0 & 0.0 & 0.0\\\\0.0 & 0.0 & 0.0 & 0.0 & 0.0 & 0.0 & 0.0 & 0.0 & 0.0 & 0.0 & 0.0 & 0.0 & 0.0 & 0.0 & 0.0\\\\0.0 & 0.0 & 0.0 & 0.0 & 0.0 & 0.0 & 0.0 & 0.0 & 0.0 & 0.0 & 0.0 & 0.0 & 0.0 & 0.0 & 0.0\\\\0.0 & 0.0 & 0.0 & 0.0 & 0.0 & 0.0 & 0.0 & 0.0 & 0.0 & 0.0 & 0.0 & 0.0 & 0.0 & 0.0 & 0.0\\\\0.0 & 0.0 & 0.0 & 0.0 & 0.0 & 0.0 & 0.0 & 0.0 & 0.0 & 0.0 & 0.0 & 0.0 & 0.0 & 0.0 & 0.0\\\\0.0 & 0.0 & 0.0 & 0.0 & 0.0 & 0.0 & 0.0 & 0.0 & 0.0 & 0.0 & 0.0 & 0.0 & 0.0 & 0.0 & 0.0\\\\0.0 & 0.0 & 0.0 & 0.0 & 0.0 & 0.0 & 0.0 & 0.0 & 0.0 & 0.0 & 0.0 & 0.0 & 0.0 & 0.0 & 0.0\\\\0.0 & 0.0 & 0.0 & 0.0 & 0.0 & 0.0 & 0.0 & 0.0 & 0.0 & 0.0 & 0.0 & 0.0 & 0.0 & 0.0 & 0.0\\\\0.0 & 0.0 & 0.0 & 0.0 & 0.0 & 0.0 & 0.0 & 0.0 & 0.0 & 0.0 & 0.0 & 0.0 & 0.0 & 0.0 & 0.0\\\\0.0 & 0.0 & 0.0 & 0.0 & 0.0 & 0.0 & 0.0 & 0.0 & 0.0 & 0.0 & 0.0 & 0.0 & 0.0 & 0.0 & 0.0\\end{array}\\right]$"
      ],
      "text/plain": [
       "⎡0.0  0.0  0.0  0.0  0.0  0.0  0.0  0.0  0.0  0.0  0.0  0.0  0.0  0.0  0.0⎤\n",
       "⎢                                                                         ⎥\n",
       "⎢0.0  0.0  0.0  0.0  0.0  0.0  0.0  0.0  0.0  0.0  0.0  0.0  0.0  0.0  0.0⎥\n",
       "⎢                                                                         ⎥\n",
       "⎢0.0  0.0  0.0  0.0  0.0  0.0  0.0  0.0  0.0  0.0  0.0  0.0  0.0  0.0  0.0⎥\n",
       "⎢                                                                         ⎥\n",
       "⎢0.0  0.0  0.0  0.0  0.0  0.0  0.0  0.0  0.0  0.0  0.0  0.0  0.0  0.0  0.0⎥\n",
       "⎢                                                                         ⎥\n",
       "⎢0.0  0.0  0.0  0.0  0.0  0.0  0.0  0.0  0.0  0.0  0.0  0.0  0.0  0.0  0.0⎥\n",
       "⎢                                                                         ⎥\n",
       "⎢0.0  0.0  0.0  0.0  0.0  0.0  0.0  0.0  0.0  0.0  0.0  0.0  0.0  0.0  0.0⎥\n",
       "⎢                                                                         ⎥\n",
       "⎢0.0  0.0  0.0  0.0  0.0  0.0  0.0  0.0  0.0  0.0  0.0  0.0  0.0  0.0  0.0⎥\n",
       "⎢                                                                         ⎥\n",
       "⎢0.0  0.0  0.0  0.0  0.0  0.0  0.0  0.0  0.0  0.0  0.0  0.0  0.0  0.0  0.0⎥\n",
       "⎢                                                                         ⎥\n",
       "⎢0.0  0.0  0.0  0.0  0.0  0.0  0.0  0.0  0.0  0.0  0.0  0.0  0.0  0.0  0.0⎥\n",
       "⎢                                                                         ⎥\n",
       "⎢0.0  0.0  0.0  0.0  0.0  0.0  0.0  0.0  0.0  0.0  0.0  0.0  0.0  0.0  0.0⎥\n",
       "⎢                                                                         ⎥\n",
       "⎢0.0  0.0  0.0  0.0  0.0  0.0  0.0  0.0  0.0  0.0  0.0  0.0  0.0  0.0  0.0⎥\n",
       "⎢                                                                         ⎥\n",
       "⎢0.0  0.0  0.0  0.0  0.0  0.0  0.0  0.0  0.0  0.0  0.0  0.0  0.0  0.0  0.0⎥\n",
       "⎢                                                                         ⎥\n",
       "⎢0.0  0.0  0.0  0.0  0.0  0.0  0.0  0.0  0.0  0.0  0.0  0.0  0.0  0.0  0.0⎥\n",
       "⎢                                                                         ⎥\n",
       "⎢0.0  0.0  0.0  0.0  0.0  0.0  0.0  0.0  0.0  0.0  0.0  0.0  0.0  0.0  0.0⎥\n",
       "⎢                                                                         ⎥\n",
       "⎣0.0  0.0  0.0  0.0  0.0  0.0  0.0  0.0  0.0  0.0  0.0  0.0  0.0  0.0  0.0⎦"
      ]
     },
     "metadata": {},
     "output_type": "display_data"
    }
   ],
   "source": [
    "# show that [H, Sz] = 0\n",
    "printM(Hamiltonian*S - S*Hamiltonian)"
   ]
  },
  {
   "cell_type": "markdown",
   "id": "7291c88e-008e-4cde-ac84-cad13c451832",
   "metadata": {},
   "source": [
    "**Berechne Sz für U = 1 ... 4:**"
   ]
  },
  {
   "cell_type": "code",
   "execution_count": 16,
   "id": "45a6c63b-788b-4fb4-a383-b4b9b1ae849b",
   "metadata": {},
   "outputs": [],
   "source": [
    "U = np.arange(1, 10.1, 0.1)\n",
    "SUi = []\n",
    "\n",
    "for Ui in U:    \n",
    "    # find ground state\n",
    "    eigval_min = np.inf\n",
    "    Hamiltonian = generate_Hamiltonian(states, Ui)\n",
    "    eigval, eigvec = np.linalg.eig(Hamiltonian)   \n",
    "    eigval_min = min(eigval_min, np.min(eigval))     \n",
    "   \n",
    "    # average over all ground states    \n",
    "    cnt = 0\n",
    "    su_avg = 0\n",
    "\n",
    "    Hamiltonian = generate_Hamiltonian(states, Ui)\n",
    "    eigval, eigvec = np.linalg.eig(Hamiltonian)   \n",
    "\n",
    "    for i in range(len(eigval)):\n",
    "        if abs(eigval_min-eigval[i]) < 1e-10:\n",
    "            cnt += 1\n",
    "            su_tmp = 0\n",
    "            for i,x in enumerate(eigvec[:,i]):            \n",
    "                res_1 = up(states[i])[0] - down(states[i])[0]\n",
    "                res_2 = up(states[i])[1] - down(states[i])[1]\n",
    "                res_3 = up(states[i])[2] - down(states[i])[2]\n",
    "                su_avg += x**2 * (res_1*res_2 + res_2*res_3 + res_3*res_1) / NSITES\n",
    "\n",
    "    SUi.append(su_avg/cnt)"
   ]
  },
  {
   "cell_type": "code",
   "execution_count": 19,
   "id": "4fe10df0-78a6-44c3-ac1c-fc119a8127d8",
   "metadata": {},
   "outputs": [
    {
     "data": {
      "text/plain": [
       "Text(0.5, 1.0, 'spin-spin correlation function $S$ vs. $U$\\nN_electrons = 4')"
      ]
     },
     "execution_count": 19,
     "metadata": {},
     "output_type": "execute_result"
    },
    {
     "data": {
      "image/png": "[encoded data removed]",
      "text/plain": [
       "<Figure size 2000x700 with 1 Axes>"
      ]
     },
     "metadata": {
      "needs_background": "light"
     },
     "output_type": "display_data"
    }
   ],
   "source": [
    "plt.rcParams['figure.figsize'] = [20, 7]\n",
    "plt.rcParams['figure.dpi'] = 100\n",
    "plt.plot(U, np.abs(SUi), 'rx')\n",
    "plt.plot(U, np.abs(SUi), 'b')\n",
    "plt.grid()\n",
    "plt.xlabel(\"$U$\")\n",
    "plt.ylabel(r\"$S$\")\n",
    "plt.title(r\"spin-spin correlation function $S$ vs. $U$\" \"\\n\" \"N_electrons = {:g}\" .format(N_electrons))"
   ]
  },
  {
   "cell_type": "code",
   "execution_count": null,
   "id": "27d80035-ad66-4469-a7cd-963965f87b73",
   "metadata": {},
   "outputs": [],
   "source": []
  }
 ],
 "metadata": {
  "kernelspec": {
   "display_name": "Python 3 (ipykernel)",
   "language": "python",
   "name": "python3"
  },
  "language_info": {
   "codemirror_mode": {
    "name": "ipython",
    "version": 3
   },
   "file_extension": ".py",
   "mimetype": "text/x-python",
   "name": "python",
   "nbconvert_exporter": "python",
   "pygments_lexer": "ipython3",
   "version": "3.7.6"
  }
 },
 "nbformat": 4,
 "nbformat_minor": 5
}
